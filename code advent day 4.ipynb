{
 "cells": [
  {
   "cell_type": "markdown",
   "metadata": {},
   "source": [
    "# First Puzzle"
   ]
  },
  {
   "cell_type": "code",
   "execution_count": 5,
   "metadata": {},
   "outputs": [],
   "source": [
    "input_rng = range(*map(int,'254032-789860'.split('-')))"
   ]
  },
  {
   "cell_type": "code",
   "execution_count": 79,
   "metadata": {},
   "outputs": [],
   "source": [
    "def has_pair(num_chars):\n",
    "    repeats = [\n",
    "        i\n",
    "        for i in set(num_chars)\n",
    "        if num_chars.count(i) > 1\n",
    "    ]\n",
    "    for num in repeats:\n",
    "        ind = num_chars.index(num)\n",
    "        if num_chars[ind + 1] == num:\n",
    "            return True\n",
    "    return False\n",
    "\n",
    "\n",
    "\n",
    "def ascends(num_chars):\n",
    "    i=1\n",
    "    char = num_chars[0]\n",
    "    while i < len(num_chars):\n",
    "        if num_chars[i] < char:\n",
    "            return False\n",
    "        char = num_chars[i]\n",
    "        i += 1\n",
    "    return True"
   ]
  },
  {
   "cell_type": "code",
   "execution_count": 41,
   "metadata": {},
   "outputs": [
    {
     "name": "stdout",
     "output_type": "stream",
     "text": [
      "1033\n"
     ]
    }
   ],
   "source": [
    "solns = []\n",
    "for i in input_rng:\n",
    "    inp = str(i)\n",
    "    if ascends(inp):\n",
    "        if has_pair(inp):\n",
    "              solns.append(inp)\n",
    "print(len(solns))"
   ]
  },
  {
   "cell_type": "markdown",
   "metadata": {},
   "source": [
    "## Second Puzzle"
   ]
  },
  {
   "cell_type": "code",
   "execution_count": 43,
   "metadata": {},
   "outputs": [],
   "source": [
    "def has_pair_only(num_chars):\n",
    "    repeats = [\n",
    "        i\n",
    "        for i in set(num_chars)\n",
    "        if num_chars.count(i) > 1\n",
    "    ]\n",
    "    for num in repeats:\n",
    "        ind = num_chars.index(num)\n",
    "        if num_chars[ind + 1] == num:\n",
    "            if ind +2 ==len(num_chars):\n",
    "                return True\n",
    "            elif num_chars[ind + 2] != num:\n",
    "                return True\n",
    "    return False\n"
   ]
  },
  {
   "cell_type": "code",
   "execution_count": 44,
   "metadata": {},
   "outputs": [
    {
     "name": "stdout",
     "output_type": "stream",
     "text": [
      "670\n"
     ]
    }
   ],
   "source": [
    "solns = []\n",
    "for i in input_rng:\n",
    "    inp = str(i)\n",
    "    if ascends(inp):\n",
    "        if has_pair_only(inp):\n",
    "              solns.append(inp)\n",
    "print(len(solns))"
   ]
  },
  {
   "cell_type": "markdown",
   "metadata": {},
   "source": [
    "# Can we do better?\n",
    "\n",
    "Above solution is dumb because we have to scan through the entire range of potential answers (brute force), so wouldn't scale well.\n",
    "\n",
    "Can we improve on this?\n"
   ]
  },
  {
   "cell_type": "markdown",
   "metadata": {},
   "source": [
    "## Benchmark"
   ]
  },
  {
   "cell_type": "code",
   "execution_count": 49,
   "metadata": {},
   "outputs": [],
   "source": [
    "def puzzle_1_brute_soln(input_rng):\n",
    "    solns = []\n",
    "    for i in input_rng:\n",
    "        inp = str(i)\n",
    "        if ascends(inp):\n",
    "            if has_pair(inp):\n",
    "                  solns.append(inp)\n",
    "    return len(solns)\n",
    "def puzzle_2_brute_soln(input_rng):\n",
    "    solns = []\n",
    "    for i in input_rng:\n",
    "        inp = str(i)\n",
    "        if ascends(inp):\n",
    "            if has_pair_only(inp):\n",
    "                  solns.append(inp)\n",
    "    return len(solns)"
   ]
  },
  {
   "cell_type": "code",
   "execution_count": 48,
   "metadata": {},
   "outputs": [
    {
     "name": "stdout",
     "output_type": "stream",
     "text": [
      "242 ms ± 3.21 ms per loop (mean ± std. dev. of 7 runs, 1 loop each)\n"
     ]
    }
   ],
   "source": [
    "%%timeit \n",
    "soln = puzzle_1_brute_soln(input_rng)"
   ]
  },
  {
   "cell_type": "code",
   "execution_count": 50,
   "metadata": {},
   "outputs": [
    {
     "name": "stdout",
     "output_type": "stream",
     "text": [
      "244 ms ± 4.23 ms per loop (mean ± std. dev. of 7 runs, 1 loop each)\n"
     ]
    }
   ],
   "source": [
    "%%timeit \n",
    "soln = puzzle_2_brute_soln(input_rng)"
   ]
  },
  {
   "cell_type": "markdown",
   "metadata": {},
   "source": [
    "# Puzzle 1"
   ]
  },
  {
   "cell_type": "code",
   "execution_count": 84,
   "metadata": {},
   "outputs": [],
   "source": [
    "input_from, input_to = '254032-789860'.split('-')"
   ]
  },
  {
   "cell_type": "code",
   "execution_count": 375,
   "metadata": {},
   "outputs": [],
   "source": [
    "# Pair condition has to be checked seperately\n",
    "# we can restrict the range initially to only those values where the 'ascending' rule holds.\n",
    "\n",
    "# we can do this by recursively building the potential passwords\n",
    "# and breaking off whenever we're not in 'ascending' territory\n"
   ]
  },
  {
   "cell_type": "code",
   "execution_count": 376,
   "metadata": {},
   "outputs": [],
   "source": [
    "def replace_val(inp, dig, repl):\n",
    "    return inp[:dig]+str(repl)+inp[dig+1:]\n",
    "\n",
    "\n",
    "\n",
    "def get_ascending_inputs(digit_replace, base, int_from, int_to):\n",
    "    lower_bound = int(base[digit_replace-1])\n",
    "    if digit_replace == len(str(int_from))-1:\n",
    "        # base case\n",
    "        for insert in range(lower_bound, 10):\n",
    "            val = replace_val(base,digit_replace,insert)\n",
    "            ival = int(val) \n",
    "            #print(val)\n",
    "            if ival< int_from:\n",
    "                continue\n",
    "            elif ival > int_to:\n",
    "                break\n",
    "            else:\n",
    "                yield val\n",
    "    else:\n",
    "        # recursive case\n",
    "        for insert in range(lower_bound, 10):\n",
    "            val = replace_val(base,digit_replace,insert)\n",
    "            ival = int(val)\n",
    "            if ival< int_from:\n",
    "                continue\n",
    "            elif ival > int_to:\n",
    "                break\n",
    "            else:\n",
    "                yield from get_ascending_inputs(digit_replace + 1, val, int_from, int_to)\n",
    "\n",
    "\n",
    "def puzzle_1_better_soln(input_from, input_to):\n",
    "    solns = []\n",
    "    for possible in get_ascending_inputs(0,str(input_from), int(input_from), int(input_to)):\n",
    "        if has_pair(possible):\n",
    "            solns.append(possible)\n",
    "    return len(solns)"
   ]
  },
  {
   "cell_type": "code",
   "execution_count": 378,
   "metadata": {},
   "outputs": [
    {
     "name": "stdout",
     "output_type": "stream",
     "text": [
      "3.62 ms ± 18.4 µs per loop (mean ± std. dev. of 7 runs, 100 loops each)\n"
     ]
    }
   ],
   "source": [
    "%%timeit \n",
    "puzzle_1_better_soln(input_from, input_to)"
   ]
  },
  {
   "cell_type": "markdown",
   "metadata": {},
   "source": [
    "# Awesome\n"
   ]
  },
  {
   "cell_type": "code",
   "execution_count": 379,
   "metadata": {},
   "outputs": [
    {
     "data": {
      "text/plain": [
       "1033"
      ]
     },
     "execution_count": 379,
     "metadata": {},
     "output_type": "execute_result"
    }
   ],
   "source": [
    "puzzle_1_better_soln(input_from, input_to)"
   ]
  },
  {
   "cell_type": "code",
   "execution_count": 380,
   "metadata": {},
   "outputs": [],
   "source": [
    "\n",
    "def puzzle_2_better_soln(input_from, input_to):\n",
    "    solns = []\n",
    "    for possible in get_ascending_inputs(0,str(input_from), int(input_from), int(input_to)):\n",
    "        if has_pair_only(possible):\n",
    "            solns.append(possible)\n",
    "    return len(solns)"
   ]
  },
  {
   "cell_type": "code",
   "execution_count": 381,
   "metadata": {},
   "outputs": [
    {
     "data": {
      "text/plain": [
       "670"
      ]
     },
     "execution_count": 381,
     "metadata": {},
     "output_type": "execute_result"
    }
   ],
   "source": [
    "puzzle_2_better_soln(input_from, input_to)"
   ]
  },
  {
   "cell_type": "code",
   "execution_count": 382,
   "metadata": {},
   "outputs": [
    {
     "name": "stdout",
     "output_type": "stream",
     "text": [
      "4.28 ms ± 781 µs per loop (mean ± std. dev. of 7 runs, 100 loops each)\n"
     ]
    }
   ],
   "source": [
    "%%timeit \n",
    "puzzle_2_better_soln(input_from, input_to)"
   ]
  },
  {
   "cell_type": "code",
   "execution_count": null,
   "metadata": {},
   "outputs": [],
   "source": []
  }
 ],
 "metadata": {
  "kernelspec": {
   "display_name": "Python 3",
   "language": "python",
   "name": "python3"
  },
  "language_info": {
   "codemirror_mode": {
    "name": "ipython",
    "version": 3
   },
   "file_extension": ".py",
   "mimetype": "text/x-python",
   "name": "python",
   "nbconvert_exporter": "python",
   "pygments_lexer": "ipython3",
   "version": "3.7.4"
  }
 },
 "nbformat": 4,
 "nbformat_minor": 2
}

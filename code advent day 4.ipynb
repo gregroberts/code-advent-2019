{
 "cells": [
  {
   "cell_type": "code",
   "execution_count": 5,
   "metadata": {},
   "outputs": [],
   "source": [
    "input_rng = range(*map(int,'254032-789860'.split('-')))"
   ]
  },
  {
   "cell_type": "code",
   "execution_count": 40,
   "metadata": {},
   "outputs": [],
   "source": [
    "def has_pair(num_chars):\n",
    "    repeats = [\n",
    "        i\n",
    "        for i in set(num_chars)\n",
    "        if num_chars.count(i) > 1\n",
    "    ]\n",
    "    for num in repeats:\n",
    "        ind = num_chars.index(num)\n",
    "        if num_chars[ind + 1] == num:\n",
    "            return True\n",
    "    return False\n",
    "\n",
    "\n",
    "\n",
    "def ascends(num_chars):\n",
    "    i=1\n",
    "    char = num_chars[0]\n",
    "    while i < len(num_chars):\n",
    "        if num_chars[i] < char:\n",
    "            return False\n",
    "        char = num_chars[i]\n",
    "        i += 1\n",
    "    return True"
   ]
  },
  {
   "cell_type": "code",
   "execution_count": 41,
   "metadata": {},
   "outputs": [
    {
     "name": "stdout",
     "output_type": "stream",
     "text": [
      "1033\n"
     ]
    }
   ],
   "source": [
    "solns = []\n",
    "for i in input_rng:\n",
    "    inp = str(i)\n",
    "    if ascends(inp):\n",
    "        if has_pair(inp):\n",
    "              solns.append(inp)\n",
    "print(len(solns))"
   ]
  },
  {
   "cell_type": "code",
   "execution_count": 43,
   "metadata": {},
   "outputs": [],
   "source": [
    "def has_pair_only(num_chars):\n",
    "    repeats = [\n",
    "        i\n",
    "        for i in set(num_chars)\n",
    "        if num_chars.count(i) > 1\n",
    "    ]\n",
    "    for num in repeats:\n",
    "        ind = num_chars.index(num)\n",
    "        if num_chars[ind + 1] == num:\n",
    "            if ind +2 ==len(num_chars):\n",
    "                return True\n",
    "            elif num_chars[ind + 2] != num:\n",
    "                return True\n",
    "    return False\n"
   ]
  },
  {
   "cell_type": "code",
   "execution_count": 44,
   "metadata": {},
   "outputs": [
    {
     "name": "stdout",
     "output_type": "stream",
     "text": [
      "670\n"
     ]
    }
   ],
   "source": [
    "solns = []\n",
    "for i in input_rng:\n",
    "    inp = str(i)\n",
    "    if ascends(inp):\n",
    "        if has_pair_only(inp):\n",
    "              solns.append(inp)\n",
    "print(len(solns))"
   ]
  },
  {
   "cell_type": "code",
   "execution_count": null,
   "metadata": {},
   "outputs": [],
   "source": []
  }
 ],
 "metadata": {
  "kernelspec": {
   "display_name": "Python 3",
   "language": "python",
   "name": "python3"
  },
  "language_info": {
   "codemirror_mode": {
    "name": "ipython",
    "version": 3
   },
   "file_extension": ".py",
   "mimetype": "text/x-python",
   "name": "python",
   "nbconvert_exporter": "python",
   "pygments_lexer": "ipython3",
   "version": "3.7.4"
  }
 },
 "nbformat": 4,
 "nbformat_minor": 2
}

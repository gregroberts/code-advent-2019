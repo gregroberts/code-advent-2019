{
 "cells": [
  {
   "cell_type": "markdown",
   "metadata": {},
   "source": [
    "# Day 2"
   ]
  },
  {
   "cell_type": "code",
   "execution_count": 2,
   "metadata": {},
   "outputs": [],
   "source": [
    "#look at first int \n",
    "#opcodes\n",
    "# 99 - stop running\n",
    "# 1 - add first 2 store in 3\n",
    "# 2 - multiply first 2 store in 3\n",
    "# other - ERROR\n",
    "\n"
   ]
  },
  {
   "cell_type": "code",
   "execution_count": 3,
   "metadata": {},
   "outputs": [],
   "source": [
    "example_prog = '1,9,10,3,2,3,11,0,99,30,40,50'"
   ]
  },
  {
   "cell_type": "code",
   "execution_count": null,
   "metadata": {},
   "outputs": [],
   "source": []
  },
  {
   "cell_type": "code",
   "execution_count": 31,
   "metadata": {},
   "outputs": [],
   "source": [
    "\n",
    "\n",
    "  \n",
    "def run_program(prog_string, debug = False):\n",
    "    index = 0\n",
    "    def printl(msg):\n",
    "        if debug:\n",
    "            print(msg)\n",
    "    prog  = [int(i) for i in prog_string.split(',')] \n",
    "    while index < len(prog):\n",
    "        char = prog[index]\n",
    "        if char == 1:\n",
    "            printl('opcode 1')\n",
    "            a = prog[index+1]\n",
    "            b = prog[index+2]\n",
    "            c = prog[index+3]\n",
    "            printl(f'{a} + {b} => {c}')\n",
    "            index += 4\n",
    "            prog[c] = prog[a] + prog[b]\n",
    "        elif char == 2:\n",
    "            printl('opcode 2')\n",
    "            a = prog[index+1]\n",
    "            b = prog[index+2]\n",
    "            c = prog[index+3]\n",
    "            printl(f'{a}* {b} => {c}')\n",
    "            index += 4\n",
    "            prog[c] = prog[a] * prog[b]\n",
    "        elif char == 99:\n",
    "            printl('opcode 99')\n",
    "            printl( 'Program Ended ')\n",
    "            return prog\n",
    "        else:\n",
    "            raise Exception(f'unknown opcode {char} {type(char)}' )\n",
    "        #print(prog)\n",
    "    return prog"
   ]
  },
  {
   "cell_type": "code",
   "execution_count": 33,
   "metadata": {},
   "outputs": [
    {
     "name": "stdout",
     "output_type": "stream",
     "text": [
      "opcode 1\n",
      "9 + 10 => 3\n",
      "opcode 2\n",
      "3* 11 => 0\n",
      "opcode 99\n",
      "Program Ended \n"
     ]
    },
    {
     "data": {
      "text/plain": [
       "[3500, 9, 10, 70, 2, 3, 11, 0, 99, 30, 40, 50]"
      ]
     },
     "execution_count": 33,
     "metadata": {},
     "output_type": "execute_result"
    }
   ],
   "source": [
    "run_program(example_prog, True)"
   ]
  },
  {
   "cell_type": "code",
   "execution_count": 20,
   "metadata": {},
   "outputs": [],
   "source": [
    "progs = [\n",
    "        ('1,0,0,0,99', '2,0,0,0,99'),# (1 + 1 = 2).\n",
    "    ('2,3,0,3,99', '2,3,0,6,99'), #(3 * 2 = 6).\n",
    "    ('2,4,4,5,99,0', '2,4,4,5,99,9801'), #(99 * 99 = 9801).\n",
    "    ('1,1,1,4,99,5,6,0,99', '30,1,1,4,2,5,6,0,99'),\n",
    "]"
   ]
  },
  {
   "cell_type": "code",
   "execution_count": 23,
   "metadata": {},
   "outputs": [
    {
     "name": "stdout",
     "output_type": "stream",
     "text": [
      "1,0,0,0,99 2,0,0,0,99\n",
      "opcode 1\n",
      "0 + 0 => 0\n",
      "[2, 0, 0, 0, 99]\n",
      "opcode 99\n",
      "Program Ended \n",
      "[2, 0, 0, 0, 99]\n",
      "2,0,0,0,99\n",
      "--------------------\n",
      "2,3,0,3,99 2,3,0,6,99\n",
      "opcode 2\n",
      "3* 0 => 3\n",
      "[2, 3, 0, 6, 99]\n",
      "opcode 99\n",
      "Program Ended \n",
      "[2, 3, 0, 6, 99]\n",
      "2,3,0,6,99\n",
      "--------------------\n",
      "2,4,4,5,99,0 2,4,4,5,99,9801\n",
      "opcode 2\n",
      "4* 4 => 5\n",
      "[2, 4, 4, 5, 99, 9801]\n",
      "opcode 99\n",
      "Program Ended \n",
      "[2, 4, 4, 5, 99, 9801]\n",
      "2,4,4,5,99,9801\n",
      "--------------------\n",
      "1,1,1,4,99,5,6,0,99 30,1,1,4,2,5,6,0,99\n",
      "opcode 1\n",
      "1 + 1 => 4\n",
      "[1, 1, 1, 4, 2, 5, 6, 0, 99]\n",
      "opcode 2\n",
      "5* 6 => 0\n",
      "[30, 1, 1, 4, 2, 5, 6, 0, 99]\n",
      "opcode 99\n",
      "Program Ended \n",
      "[30, 1, 1, 4, 2, 5, 6, 0, 99]\n",
      "30,1,1,4,2,5,6,0,99\n",
      "--------------------\n"
     ]
    }
   ],
   "source": [
    "for prog, soln in progs:\n",
    "    print(prog, soln)\n",
    "    print(run_program(prog))\n",
    "    print(soln)\n",
    "    print('-'*20)"
   ]
  },
  {
   "cell_type": "code",
   "execution_count": 132,
   "metadata": {},
   "outputs": [],
   "source": [
    "prog = '1,0,0,3,1,1,2,3,1,3,4,3,1,5,0,3,2,10,1,19,2,19,6,23,2,13,23,27,1,9,27,31,2,31,9,35,1,6,35,39,2,10,39,43,1,5,43,47,1,5,47,51,2,51,6,55,2,10,55,59,1,59,9,63,2,13,63,67,1,10,67,71,1,71,5,75,1,75,6,79,1,10,79,83,1,5,83,87,1,5,87,91,2,91,6,95,2,6,95,99,2,10,99,103,1,103,5,107,1,2,107,111,1,6,111,0,99,2,14,0,0'"
   ]
  },
  {
   "cell_type": "code",
   "execution_count": 45,
   "metadata": {},
   "outputs": [],
   "source": [
    "prog = prog.split(',')\n",
    "prog[1] = '12'\n",
    "prog[2] = '2'\n",
    "prog = ','.join(prog)"
   ]
  },
  {
   "cell_type": "code",
   "execution_count": 46,
   "metadata": {},
   "outputs": [
    {
     "data": {
      "text/plain": [
       "'1,12,2,3,1,1,2,3,1,3,4,3,1,5,0,3,2,10,1,19,2,19,6,23,2,13,23,27,1,9,27,31,2,31,9,35,1,6,35,39,2,10,39,43,1,5,43,47,1,5,47,51,2,51,6,55,2,10,55,59,1,59,9,63,2,13,63,67,1,10,67,71,1,71,5,75,1,75,6,79,1,10,79,83,1,5,83,87,1,5,87,91,2,91,6,95,2,6,95,99,2,10,99,103,1,103,5,107,1,2,107,111,1,6,111,0,99,2,14,0,0'"
      ]
     },
     "execution_count": 46,
     "metadata": {},
     "output_type": "execute_result"
    }
   ],
   "source": [
    "prog"
   ]
  },
  {
   "cell_type": "code",
   "execution_count": 30,
   "metadata": {
    "scrolled": true
   },
   "outputs": [
    {
     "name": "stdout",
     "output_type": "stream",
     "text": [
      "opcode 1\n",
      "12 + 2 => 3\n",
      "opcode 1\n",
      "1 + 2 => 3\n",
      "opcode 1\n",
      "3 + 4 => 3\n",
      "opcode 1\n",
      "5 + 0 => 3\n",
      "opcode 2\n",
      "10* 1 => 19\n",
      "opcode 2\n",
      "19* 6 => 23\n",
      "opcode 2\n",
      "13* 23 => 27\n",
      "opcode 1\n",
      "9 + 27 => 31\n",
      "opcode 2\n",
      "31* 9 => 35\n",
      "opcode 1\n",
      "6 + 35 => 39\n",
      "opcode 2\n",
      "10* 39 => 43\n",
      "opcode 1\n",
      "5 + 43 => 47\n",
      "opcode 1\n",
      "5 + 47 => 51\n",
      "opcode 2\n",
      "51* 6 => 55\n",
      "opcode 2\n",
      "10* 55 => 59\n",
      "opcode 1\n",
      "59 + 9 => 63\n",
      "opcode 2\n",
      "13* 63 => 67\n",
      "opcode 1\n",
      "10 + 67 => 71\n",
      "opcode 1\n",
      "71 + 5 => 75\n",
      "opcode 1\n",
      "75 + 6 => 79\n",
      "opcode 1\n",
      "10 + 79 => 83\n",
      "opcode 1\n",
      "5 + 83 => 87\n",
      "opcode 1\n",
      "5 + 87 => 91\n",
      "opcode 2\n",
      "91* 6 => 95\n",
      "opcode 2\n",
      "6* 95 => 99\n",
      "opcode 2\n",
      "10* 99 => 103\n",
      "opcode 1\n",
      "103 + 5 => 107\n",
      "opcode 1\n",
      "2 + 107 => 111\n",
      "opcode 1\n",
      "6 + 111 => 0\n",
      "opcode 99\n",
      "Program Ended \n"
     ]
    },
    {
     "data": {
      "text/plain": [
       "3716293"
      ]
     },
     "execution_count": 30,
     "metadata": {},
     "output_type": "execute_result"
    }
   ],
   "source": [
    "run_program(prog)[0]"
   ]
  },
  {
   "cell_type": "code",
   "execution_count": 34,
   "metadata": {},
   "outputs": [],
   "source": [
    "t = pd.Series(np.arange(0,99,10))\n"
   ]
  },
  {
   "cell_type": "code",
   "execution_count": 61,
   "metadata": {},
   "outputs": [],
   "source": [
    "def run_modified_prog(input1, input2):\n",
    "    this_prog = prog.split(',')\n",
    "    this_prog[1] = str(input1)\n",
    "    this_prog[2] = str(input2)\n",
    "    this_prog = ','.join(this_prog)\n",
    "    result = run_program(this_prog)[0]\n",
    "    return result"
   ]
  },
  {
   "cell_type": "code",
   "execution_count": 62,
   "metadata": {},
   "outputs": [
    {
     "data": {
      "text/plain": [
       "0     0\n",
       "1    10\n",
       "2    20\n",
       "3    30\n",
       "4    40\n",
       "5    50\n",
       "6    60\n",
       "7    70\n",
       "8    80\n",
       "9    90\n",
       "dtype: int32"
      ]
     },
     "execution_count": 62,
     "metadata": {},
     "output_type": "execute_result"
    }
   ],
   "source": [
    "t"
   ]
  },
  {
   "cell_type": "code",
   "execution_count": 63,
   "metadata": {},
   "outputs": [],
   "source": [
    "r = t.apply(lambda x: run_modified_prog(x,x))"
   ]
  },
  {
   "cell_type": "code",
   "execution_count": 64,
   "metadata": {},
   "outputs": [
    {
     "data": {
      "text/plain": [
       "0       29891\n",
       "1     3101901\n",
       "2     6173911\n",
       "3     9245921\n",
       "4    12317931\n",
       "5    15389941\n",
       "6    18461951\n",
       "7    21533961\n",
       "8    24605971\n",
       "9    27677981\n",
       "dtype: int64"
      ]
     },
     "execution_count": 64,
     "metadata": {},
     "output_type": "execute_result"
    }
   ],
   "source": [
    "r"
   ]
  },
  {
   "cell_type": "code",
   "execution_count": 78,
   "metadata": {},
   "outputs": [],
   "source": [
    "target = 19690720"
   ]
  },
  {
   "cell_type": "code",
   "execution_count": 144,
   "metadata": {},
   "outputs": [
    {
     "name": "stdout",
     "output_type": "stream",
     "text": [
      "   in         a           b\n",
      "7  70  21533892  18461892.0\n"
     ]
    },
    {
     "data": {
      "text/plain": [
       "70"
      ]
     },
     "execution_count": 144,
     "metadata": {},
     "output_type": "execute_result"
    }
   ],
   "source": [
    "def divide_and_conquer(a,b, i, c, target=target):\n",
    "    diff = 1\n",
    "    if b-a >20:\n",
    "        diff = 10\n",
    "    elif a-b ==0:\n",
    "        return a\n",
    "    t = pd.Series(np.arange(a,b,diff)).to_frame('in')\n",
    "    dt = lambda i,j:  run_modified_prog(i,j)\n",
    "    if i == 0:\n",
    "        r = t['in'].apply(lambda x: dt(x,c))\n",
    "    elif i == 1:\n",
    "        r = t['in'].apply(lambda x: dt(c,x))\n",
    "    t['a'] = r\n",
    "    t['b'] = t.a.shift(1)\n",
    "    midpoint = t[(t.b<=target)&(t.a>=target)]  \n",
    "    print(midpoint)\n",
    "    if midpoint.a.values[0] == target:\n",
    "        return midpoint['in'].values[0]+diff\n",
    "    else:\n",
    "        return midpoint['in'].values[0]\n",
    "divide_and_conquer(\n",
    "    0,100,\n",
    "    0, 1\n",
    ")"
   ]
  },
  {
   "cell_type": "code",
   "execution_count": 145,
   "metadata": {},
   "outputs": [],
   "source": [
    "def solve_for_target(target):\n",
    "    def solve_char(i, c):\n",
    "        print(i,c)\n",
    "        ten = divide_and_conquer(0,100, i , c, target)\n",
    "        print(ten)\n",
    "        return divide_and_conquer(ten - 10, ten, i, c, target) -1\n",
    "    first = solve_char(0,1)\n",
    "    print('first',first)\n",
    "    second = solve_char(1,first)\n",
    "    print('second',second)\n",
    "    print(run_modified_prog(first,second), target)\n",
    "    assert run_modified_prog(first, second) == target\n",
    "    return first,second"
   ]
  },
  {
   "cell_type": "code",
   "execution_count": 146,
   "metadata": {},
   "outputs": [
    {
     "data": {
      "text/plain": [
       "19690720"
      ]
     },
     "execution_count": 146,
     "metadata": {},
     "output_type": "execute_result"
    }
   ],
   "source": [
    "run_modified_prog(64, 29)"
   ]
  },
  {
   "cell_type": "code",
   "execution_count": 147,
   "metadata": {},
   "outputs": [
    {
     "name": "stdout",
     "output_type": "stream",
     "text": [
      "0 1\n",
      "   in         a           b\n",
      "7  70  21533892  18461892.0\n",
      "70\n",
      "   in         a           b\n",
      "5  65  19997892  19690692.0\n",
      "first 64\n",
      "1 64\n",
      "   in         a           b\n",
      "3  30  19690721  19690711.0\n",
      "30\n",
      "   in         a           b\n",
      "9  29  19690720  19690719.0\n",
      "second 29\n",
      "19690720 19690720\n"
     ]
    },
    {
     "data": {
      "text/plain": [
       "(64, 29)"
      ]
     },
     "execution_count": 147,
     "metadata": {},
     "output_type": "execute_result"
    }
   ],
   "source": [
    "solve_for_target(target)"
   ]
  },
  {
   "cell_type": "code",
   "execution_count": null,
   "metadata": {},
   "outputs": [],
   "source": []
  }
 ],
 "metadata": {
  "kernelspec": {
   "display_name": "Python 3",
   "language": "python",
   "name": "python3"
  },
  "language_info": {
   "codemirror_mode": {
    "name": "ipython",
    "version": 3
   },
   "file_extension": ".py",
   "mimetype": "text/x-python",
   "name": "python",
   "nbconvert_exporter": "python",
   "pygments_lexer": "ipython3",
   "version": "3.7.4"
  }
 },
 "nbformat": 4,
 "nbformat_minor": 2
}

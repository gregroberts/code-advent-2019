{
 "cells": [
  {
   "cell_type": "markdown",
   "metadata": {},
   "source": [
    "# First Puzzle\n",
    "\n",
    "Fuel required to launch a given module is based on its mass. Specifically, to find the fuel required for a module, take its mass, divide by three, round down, and subtract 2.\n",
    "\n",
    "For example:\n",
    "\n",
    "For a mass of 12, divide by 3 and round down to get 4, then subtract 2 to get 2.\n",
    "\n",
    "For a mass of 14, dividing by 3 and rounding down still yields 4, so the fuel required is also 2.\n",
    "\n",
    "For a mass of 1969, the fuel required is 654.\n",
    "\n",
    "For a mass of 100756, the fuel required is 33583.\n",
    "\n",
    "The Fuel Counter-Upper needs to know the total fuel requirement. To find it, individually calculate the fuel needed for the \n",
    "mass of each module (your puzzle input), then add together all the fuel values.\n",
    "\n",
    "\n",
    "What is the sum of the fuel requirements for all of the modules on your spacecraft?\n",
    "\n"
   ]
  },
  {
   "cell_type": "code",
   "execution_count": 1,
   "metadata": {},
   "outputs": [],
   "source": [
    "puzz_input = '''56017\n",
    "141632\n",
    "71303\n",
    "148129\n",
    "59828\n",
    "83478\n",
    "136501\n",
    "97611\n",
    "92298\n",
    "107697\n",
    "102886\n",
    "57037\n",
    "58458\n",
    "121031\n",
    "119944\n",
    "147894\n",
    "110097\n",
    "146857\n",
    "137133\n",
    "126985\n",
    "81583\n",
    "106275\n",
    "130025\n",
    "99276\n",
    "76704\n",
    "105244\n",
    "111534\n",
    "110405\n",
    "88847\n",
    "106736\n",
    "109562\n",
    "112705\n",
    "50061\n",
    "146911\n",
    "143213\n",
    "126404\n",
    "131161\n",
    "82251\n",
    "56396\n",
    "86306\n",
    "110074\n",
    "94474\n",
    "113640\n",
    "60274\n",
    "102171\n",
    "97755\n",
    "142020\n",
    "100304\n",
    "100155\n",
    "80432\n",
    "124345\n",
    "79730\n",
    "105762\n",
    "114971\n",
    "141583\n",
    "135170\n",
    "87585\n",
    "105794\n",
    "101571\n",
    "62313\n",
    "62865\n",
    "136660\n",
    "121434\n",
    "67603\n",
    "53325\n",
    "76232\n",
    "93160\n",
    "99580\n",
    "90716\n",
    "102187\n",
    "115997\n",
    "134281\n",
    "64593\n",
    "87597\n",
    "131885\n",
    "68041\n",
    "88209\n",
    "136400\n",
    "127058\n",
    "141613\n",
    "66822\n",
    "62441\n",
    "136063\n",
    "134204\n",
    "52078\n",
    "135123\n",
    "95428\n",
    "91311\n",
    "55524\n",
    "97099\n",
    "80454\n",
    "91710\n",
    "130396\n",
    "130089\n",
    "127464\n",
    "86160\n",
    "53158\n",
    "64908\n",
    "98321\n",
    "112176'''.split('\\n')"
   ]
  },
  {
   "cell_type": "code",
   "execution_count": 10,
   "metadata": {},
   "outputs": [],
   "source": [
    "def get_req_fuel(module_mass):\n",
    "    return (module_mass//3)-2"
   ]
  },
  {
   "cell_type": "code",
   "execution_count": 15,
   "metadata": {},
   "outputs": [
    {
     "data": {
      "text/plain": [
       "33583"
      ]
     },
     "execution_count": 15,
     "metadata": {},
     "output_type": "execute_result"
    }
   ],
   "source": [
    "get_req_fuel(100756)"
   ]
  },
  {
   "cell_type": "code",
   "execution_count": 123,
   "metadata": {},
   "outputs": [
    {
     "data": {
      "text/plain": [
       "3381405"
      ]
     },
     "execution_count": 123,
     "metadata": {},
     "output_type": "execute_result"
    }
   ],
   "source": [
    "total_fuel = sum(map(get_req_fuel,map(int,puzz_input)))\n",
    "total_fuel"
   ]
  },
  {
   "cell_type": "markdown",
   "metadata": {},
   "source": [
    "# Second Puzzle"
   ]
  },
  {
   "cell_type": "code",
   "execution_count": 126,
   "metadata": {},
   "outputs": [],
   "source": [
    "mod_fuels = map(get_req_fuel,map(int,puzz_input))"
   ]
  },
  {
   "cell_type": "code",
   "execution_count": 127,
   "metadata": {},
   "outputs": [],
   "source": [
    "fuel_fuels = map(get_req_fuel, mod_fuels)"
   ]
  },
  {
   "cell_type": "code",
   "execution_count": 128,
   "metadata": {},
   "outputs": [],
   "source": [
    "def get_fuel_fuel(fuel_input):\n",
    "    fuel_fuel = max(0,get_req_fuel(fuel_input))\n",
    "    if fuel_fuel > 0:\n",
    "        more_fuel = get_fuel_fuel(fuel_fuel)\n",
    "        fuel_fuel += max(0,more_fuel)\n",
    "    return fuel_fuel"
   ]
  },
  {
   "cell_type": "code",
   "execution_count": 129,
   "metadata": {},
   "outputs": [
    {
     "data": {
      "text/plain": [
       "2"
      ]
     },
     "execution_count": 129,
     "metadata": {},
     "output_type": "execute_result"
    }
   ],
   "source": [
    "#2\n",
    "get_fuel_fuel(14)"
   ]
  },
  {
   "cell_type": "code",
   "execution_count": 130,
   "metadata": {},
   "outputs": [
    {
     "data": {
      "text/plain": [
       "966"
      ]
     },
     "execution_count": 130,
     "metadata": {},
     "output_type": "execute_result"
    }
   ],
   "source": [
    "#966\n",
    "get_fuel_fuel(1969)"
   ]
  },
  {
   "cell_type": "code",
   "execution_count": 131,
   "metadata": {},
   "outputs": [
    {
     "data": {
      "text/plain": [
       "50346"
      ]
     },
     "execution_count": 131,
     "metadata": {},
     "output_type": "execute_result"
    }
   ],
   "source": [
    "#50346\n",
    "get_fuel_fuel(100756)"
   ]
  },
  {
   "cell_type": "code",
   "execution_count": 132,
   "metadata": {},
   "outputs": [
    {
     "data": {
      "text/plain": [
       "5069241"
      ]
     },
     "execution_count": 132,
     "metadata": {},
     "output_type": "execute_result"
    }
   ],
   "source": [
    "sum(map(get_fuel_fuel, mod_fuels))+total_fuel"
   ]
  },
  {
   "cell_type": "code",
   "execution_count": null,
   "metadata": {},
   "outputs": [],
   "source": []
  }
 ],
 "metadata": {
  "kernelspec": {
   "display_name": "Python 3",
   "language": "python",
   "name": "python3"
  },
  "language_info": {
   "codemirror_mode": {
    "name": "ipython",
    "version": 3
   },
   "file_extension": ".py",
   "mimetype": "text/x-python",
   "name": "python",
   "nbconvert_exporter": "python",
   "pygments_lexer": "ipython3",
   "version": "3.7.4"
  }
 },
 "nbformat": 4,
 "nbformat_minor": 2
}
